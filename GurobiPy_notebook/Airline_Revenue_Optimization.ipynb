{
  "cells": [
    {
      "cell_type": "markdown",
      "metadata": {
        "id": "pXCutYkvA3OA"
      },
      "source": [
        "# Problem: Formulate a linear program for maximizing imaginary airline \"Spirit Airways\" revenue on Mondays."
      ]
    },
    {
      "cell_type": "markdown",
      "metadata": {
        "id": "njUYz60YA3OC"
      },
      "source": [
        "# Mathematical Formulation"
      ]
    },
    {
      "cell_type": "markdown",
      "metadata": {
        "id": "TcfdGQbAA3OD"
      },
      "source": [
        "Decision variables:\n",
        "\n",
        "$ Q_{i} $, $ Y_{i} $ where $i = 1,...,8$\n",
        "\n",
        "Objective function:\n",
        "\n",
        "Maximize $\\sum \\limits _{i=1} ^{8} q_{i}Q_{i} + y_{i} Y_{i}  $\n",
        "\n",
        "where $ q_{i} $ = Q-class fare price for route i, $ y_{i} $ = Y-class fare price for route i\n",
        "\n",
        "Subject to the following constraints:\n",
        "\n",
        "$ Q_{i} ≤ demandQ_{i} $ for all i = 1,...8\n",
        "\n",
        "$ Y_{i} ≤ demandY_{i} $ for all i = 1,...8\n",
        "\n",
        "$ Q_{i} + Y_{i} ≤ C $ for all i = 1,...8\n",
        "where $C$ = aircraft capacity"
      ]
    },
    {
      "cell_type": "markdown",
      "metadata": {
        "id": "ROsV9w0YA3OL"
      },
      "source": [
        "# Solution"
      ]
    },
    {
      "cell_type": "code",
      "execution_count": null,
      "metadata": {
        "id": "T-QfGqImA3OM",
        "outputId": "27ed3815-43f5-4fb3-adb2-9ec47bac267b"
      },
      "outputs": [
        {
          "name": "stdout",
          "output_type": "stream",
          "text": [
            "         Route  Q-class fare price  Y-class fare price  \\\n",
            "0  Bos-Chicago                 200                 230   \n",
            "1       Bos-SF                 320                 420   \n",
            "2       Bos-LA                 400                 490   \n",
            "3   NY-Chicago                 250                 290   \n",
            "4        NY-SF                 410                 550   \n",
            "5        NY-LA                 450                 550   \n",
            "6   Chicago-SF                 200                 230   \n",
            "7   Chicago-LA                 250                 300   \n",
            "\n",
            "   Expected demand for Q-class  Expected demand for Y-class  \n",
            "0                           25                           20  \n",
            "1                           55                           40  \n",
            "2                           65                           25  \n",
            "3                           24                           16  \n",
            "4                           65                           50  \n",
            "5                           40                           35  \n",
            "6                           21                           20  \n",
            "7                           25                           14  \n"
          ]
        }
      ],
      "source": [
        "import pandas as pd ## importing the pandas package \n",
        "Spirit= pd.read_csv('/Users/hiradnourbakhsh/Desktop/MGSC 695_R/Assignment 1/Spirit Airways.csv')\n",
        "print(Spirit)"
      ]
    },
    {
      "cell_type": "code",
      "execution_count": null,
      "metadata": {
        "id": "9EQUbuaCA3OO",
        "outputId": "0fb63525-843d-4178-a925-d55850a5a818"
      },
      "outputs": [
        {
          "data": {
            "text/plain": [
              "0    200\n",
              "1    320\n",
              "2    400\n",
              "3    250\n",
              "4    410\n",
              "5    450\n",
              "6    200\n",
              "7    250\n",
              "Name: Q-class fare price, dtype: int64"
            ]
          },
          "execution_count": 108,
          "metadata": {},
          "output_type": "execute_result"
        }
      ],
      "source": [
        "# For example, to access column the prices for Q-class:\n",
        "Spirit['Q-class fare price']"
      ]
    },
    {
      "cell_type": "code",
      "execution_count": null,
      "metadata": {
        "id": "-WAlh0-hA3OP"
      },
      "outputs": [],
      "source": [
        "# Import packages\n",
        "\n",
        "import gurobipy as gp\n",
        "from gurobipy import *"
      ]
    },
    {
      "cell_type": "code",
      "execution_count": null,
      "metadata": {
        "id": "WZroti88A3OP"
      },
      "outputs": [],
      "source": [
        "# Define model\n",
        "\n",
        "model = gp.Model('Airlines')"
      ]
    },
    {
      "cell_type": "code",
      "execution_count": null,
      "metadata": {
        "id": "3VYp4W1ZA3OP"
      },
      "outputs": [],
      "source": [
        "# set parameters\n",
        "\n",
        "l = len(Spirit.Route)\n",
        "I = range(l)\n",
        "\n",
        "q = list(Spirit['Q-class fare price'].values)\n",
        "y = list(Spirit['Y-class fare price'].values)\n",
        "\n",
        "demand_Q = list(Spirit['Expected demand for Q-class'].values)\n",
        "demand_Y = list(Spirit['Expected demand for Y-class'].values)\n",
        "\n",
        "# flight routes\n",
        "Boston = [1,1,1,0,0,0,0,0]\n",
        "SF = [0,1,0,0,1,0,1,0]\n",
        "NY = [0,0,0,1,1,1,0,0]\n",
        "LA = [0,0,1,0,0,1,0,1]\n",
        "Chicago = [1,0,0,1,0,0,1,1]"
      ]
    },
    {
      "cell_type": "code",
      "execution_count": null,
      "metadata": {
        "id": "LfZAONAoA3OQ"
      },
      "outputs": [],
      "source": [
        "# Define variables\n",
        "\n",
        "# Decision variables - continuous\n",
        "Q = model.addVars(l, lb = 0, vtype = GRB.CONTINUOUS, name = ['Q_' + str(i + 1) for i in I])\n",
        "Y = model.addVars(l, lb = 0, vtype = GRB.CONTINUOUS, name = ['Y_' + str(i + 1) for i in I])"
      ]
    },
    {
      "cell_type": "code",
      "execution_count": null,
      "metadata": {
        "id": "jYmJBzRTA3OQ"
      },
      "outputs": [],
      "source": [
        "# setObjective\n",
        "\n",
        "exp = sum(q[i]*Q[i] + y[i]*Y[i] for i in I)\n",
        "model.setObjective(exp, GRB.MAXIMIZE)"
      ]
    },
    {
      "cell_type": "code",
      "execution_count": null,
      "metadata": {
        "id": "SripmW7BA3OR"
      },
      "outputs": [],
      "source": [
        "# Define constraints\n",
        "    \n",
        "# Cannot exceed demand    \n",
        "for i in I:\n",
        "    model.addConstr(Q[i] <= demand_Q[i], name = 'Demand_Q_' + str(i + 1))\n",
        "    model.addConstr(Y[i] <= demand_Y[i], name = 'Demand_Y_' + str(i + 1))\n",
        "    \n",
        "# Capacity of aircraft\n",
        "\n",
        "for i in I:\n",
        "    model.addConstr(sum((Q[i] + Y[i]) * Boston[i] for i in I) <= 140)\n",
        "    model.addConstr(sum((Q[i] + Y[i]) * SF[i] for i in I) <= 140)\n",
        "    model.addConstr(sum((Q[i] + Y[i]) * NY[i] for i in I) <= 140)\n",
        "    model.addConstr(sum((Q[i] + Y[i]) * LA[i] for i in I) <= 140)\n",
        "    model.addConstr(sum((Q[i] + Y[i]) * Chicago[i] for i in I) <= 140)"
      ]
    },
    {
      "cell_type": "code",
      "execution_count": null,
      "metadata": {
        "id": "H_SqYKSzA3OR",
        "outputId": "a51186a8-5e0e-4897-e6f1-9ec21ef1602e"
      },
      "outputs": [
        {
          "name": "stdout",
          "output_type": "stream",
          "text": [
            "Gurobi Optimizer version 9.5.0 build v9.5.0rc5 (mac64[x86])\n",
            "Thread count: 2 physical cores, 4 logical processors, using up to 4 threads\n",
            "Optimize a model with 56 rows, 16 columns and 272 nonzeros\n",
            "Model fingerprint: 0x4b443b9b\n",
            "Coefficient statistics:\n",
            "  Matrix range     [1e+00, 1e+00]\n",
            "  Objective range  [2e+02, 6e+02]\n",
            "  Bounds range     [0e+00, 0e+00]\n",
            "  RHS range        [1e+01, 1e+02]\n",
            "Presolve removed 51 rows and 0 columns\n",
            "Presolve time: 0.02s\n",
            "Presolved: 5 rows, 16 columns, 32 nonzeros\n",
            "\n",
            "Iteration    Objective       Primal Inf.    Dual Inf.      Time\n",
            "       0    1.8760000e+05   5.887500e+01   0.000000e+00      0s\n",
            "       8    1.3428000e+05   0.000000e+00   0.000000e+00      0s\n",
            "\n",
            "Solved in 8 iterations and 0.06 seconds (0.00 work units)\n",
            "Optimal objective  1.342800000e+05\n"
          ]
        }
      ],
      "source": [
        "# optimize\n",
        "\n",
        "model.optimize()"
      ]
    },
    {
      "cell_type": "code",
      "execution_count": null,
      "metadata": {
        "id": "PlLirCPsA3OS",
        "outputId": "2a6d71e1-f480-427e-e82b-78e3106d96c1"
      },
      "outputs": [
        {
          "data": {
            "text/plain": [
              "{0: <gurobi.Var Q_1 (value 14.0)>,\n",
              " 1: <gurobi.Var Q_2 (value 0.0)>,\n",
              " 2: <gurobi.Var Q_3 (value 41.0)>,\n",
              " 3: <gurobi.Var Q_4 (value 20.0)>,\n",
              " 4: <gurobi.Var Q_5 (value 19.0)>,\n",
              " 5: <gurobi.Var Q_6 (value 0.0)>,\n",
              " 6: <gurobi.Var Q_7 (value 11.0)>,\n",
              " 7: <gurobi.Var Q_8 (value 25.0)>}"
            ]
          },
          "execution_count": 116,
          "metadata": {},
          "output_type": "execute_result"
        }
      ],
      "source": [
        "Q"
      ]
    },
    {
      "cell_type": "code",
      "execution_count": null,
      "metadata": {
        "id": "6OKkJEzdA3OS",
        "outputId": "654767c1-4de1-4beb-818c-dd2f27ecda21"
      },
      "outputs": [
        {
          "data": {
            "text/plain": [
              "{0: <gurobi.Var Y_1 (value 20.0)>,\n",
              " 1: <gurobi.Var Y_2 (value 40.0)>,\n",
              " 2: <gurobi.Var Y_3 (value 25.0)>,\n",
              " 3: <gurobi.Var Y_4 (value 16.0)>,\n",
              " 4: <gurobi.Var Y_5 (value 50.0)>,\n",
              " 5: <gurobi.Var Y_6 (value 35.0)>,\n",
              " 6: <gurobi.Var Y_7 (value 20.0)>,\n",
              " 7: <gurobi.Var Y_8 (value 14.0)>}"
            ]
          },
          "execution_count": 117,
          "metadata": {},
          "output_type": "execute_result"
        }
      ],
      "source": [
        "Y"
      ]
    },
    {
      "cell_type": "code",
      "execution_count": null,
      "metadata": {
        "id": "y9tctUvwA3OT",
        "outputId": "a63e926d-7229-4491-d11f-a8b90d7d0e89"
      },
      "outputs": [
        {
          "name": "stdout",
          "output_type": "stream",
          "text": [
            "Sensitivity Analysis (SA)\n",
            " ObjVal = 134280.0\n",
            "\n",
            "    Variable            X          Obj     SAObjLow      SAObjUp \n",
            "----------------------------------------------------------------\n",
            "         Q_1           14          200          190          200 \n",
            "         Q_2            0          320         -inf          360 \n",
            "         Q_3           41          400          400          410 \n",
            "         Q_4           20          250          250          260 \n",
            "         Q_5           19          410          400          450 \n",
            "         Q_6            0          450         -inf          450 \n",
            "         Q_7           11          200          160          210 \n",
            "         Q_8           25          250          240          inf \n",
            "         Y_1           20          230          200          inf \n",
            "         Y_2           40          420          360          inf \n",
            "         Y_3           25          490          400          inf \n",
            "         Y_4           16          290          250          inf \n",
            "         Y_5           50          550          410          inf \n",
            "         Y_6           35          550          450          inf \n",
            "         Y_7           20          230          200          inf \n",
            "         Y_8           14          300          240          inf \n",
            "\n",
            "    Variable            X           RC           LB      SALBLow       SALBUp           UB      SAUBLow       SAUBUp \n",
            "--------------------------------------------------------------------------------------------------------------------\n",
            "         Q_1           14            0            0         -inf           14          inf           14          inf \n",
            "         Q_2            0          -40            0          -11            4          inf            0          inf \n",
            "         Q_3           41            0            0         -inf           41          inf           41          inf \n",
            "         Q_4           20            0            0         -inf           20          inf           20          inf \n",
            "         Q_5           19            0            0         -inf           19          inf           19          inf \n",
            "         Q_6            0           -0            0           -4           11          inf            0          inf \n",
            "         Q_7           11            0            0         -inf           11          inf           11          inf \n",
            "         Q_8           25            0            0         -inf           25          inf           25          inf \n",
            "         Y_1           20            0            0         -inf           20          inf           20          inf \n",
            "         Y_2           40            0            0         -inf           40          inf           40          inf \n",
            "         Y_3           25            0            0         -inf           25          inf           25          inf \n",
            "         Y_4           16            0            0         -inf           16          inf           16          inf \n",
            "         Y_5           50            0            0         -inf           50          inf           50          inf \n",
            "         Y_6           35            0            0         -inf           35          inf           35          inf \n",
            "         Y_7           20            0            0         -inf           20          inf           20          inf \n",
            "         Y_8           14            0            0         -inf           14          inf           14          inf \n",
            "\n",
            "  Constraint        Sense        Slack           Pi          RHS     SARHSLow      SARHSUp \n",
            "------------------------------------------------------------------------------------------\n",
            "  Demand_Q_1            <           11            0           25           14          inf \n",
            "  Demand_Y_1            <            0           30           20            9           34 \n",
            "  Demand_Q_2            <           55            0           55            0          inf \n",
            "  Demand_Y_2            <            0           60           40           29           44 \n",
            "  Demand_Q_3            <           24            0           65           41          inf \n",
            "  Demand_Y_3            <            0           90           25            1           66 \n",
            "  Demand_Q_4            <            4            0           24           20          inf \n",
            "  Demand_Y_4            <            0           40           16           12           36 \n",
            "  Demand_Q_5            <           46            0           65           19          inf \n",
            "  Demand_Y_5            <            0          140           50            4           69 \n",
            "  Demand_Q_6            <           40            0           40            0          inf \n",
            "  Demand_Y_6            <            0          100           35           31           46 \n",
            "  Demand_Q_7            <           10            0           21           11          inf \n",
            "  Demand_Y_7            <            0           30           20           10           31 \n",
            "  Demand_Q_8            <            0           10           25           21           36 \n",
            "  Demand_Y_8            <            0           60           14           10           25 \n",
            "         R16            <            0            0          140          140          inf \n",
            "         R17            <            0            0          140          140          inf \n",
            "         R18            <            0            0          140          140          inf \n",
            "         R19            <            0            0          140          140          inf \n",
            "         R20            <            0           20          140          118          140 \n",
            "         R21            <            0            0          140          140          inf \n",
            "         R22            <            0            0          140          140          inf \n",
            "         R23            <            0            0          140          140          inf \n",
            "         R24            <            0          220          140          129          140 \n",
            "         R25            <            0            0          140          140          inf \n",
            "         R26            <            0            0          140          140          inf \n",
            "         R27            <            0            0          140          140          inf \n",
            "         R28            <            0            0          140          140          inf \n",
            "         R29            <            0            0          140          140          inf \n",
            "         R30            <            0            0          140          140          inf \n",
            "         R31            <            0            0          140          140          inf \n",
            "         R32            <            0            0          140          140          inf \n",
            "         R33            <            0          230          140          120          140 \n",
            "         R34            <            0            0          140          140          inf \n",
            "         R35            <            0            0          140          140          inf \n",
            "         R36            <            0            0          140          140          inf \n",
            "         R37            <            0            0          140          140          inf \n",
            "         R38            <            0            0          140          140          inf \n",
            "         R39            <            0            0          140          140          inf \n",
            "         R40            <            0            0          140          140          inf \n",
            "         R41            <            0            0          140          140          inf \n",
            "         R42            <            0          180          140          132          140 \n",
            "         R43            <            0            0          140          140          inf \n",
            "         R44            <            0            0          140          140          inf \n",
            "         R45            <            0            0          140          140          inf \n",
            "         R46            <            0          180          140          132          140 \n",
            "         R47            <            0            0          140          140          inf \n",
            "         R48            <            0            0          140          140          inf \n",
            "         R49            <            0            0          140          140          inf \n",
            "         R50            <            0            0          140          140          inf \n",
            "         R51            <            0            0          140          140          inf \n",
            "         R52            <            0            0          140          140          inf \n",
            "         R53            <            0            0          140          140          inf \n",
            "         R54            <            0            0          140          140          inf \n",
            "         R55            <            0            0          140          140          inf \n"
          ]
        }
      ],
      "source": [
        "print('Sensitivity Analysis (SA)\\n ObjVal =', model.ObjVal)\n",
        "model.printAttr(['X', 'Obj', 'SAObjLow', 'SAObjUp'])\n",
        "model.printAttr(['X', 'RC', 'LB', 'SALBLow', 'SALBUp', 'UB', 'SAUBLow', 'SAUBUp'])\n",
        "model.printAttr(['Sense', 'Slack', 'Pi', 'RHS', 'SARHSLow', 'SARHSUp']) # Pi = shadow price \n",
        "# NOTE: printAttr prints only rows with at least one NON-ZERO value, e.g. model.printAttr('X') prints only non-zero variable values\n",
        "\n",
        "# pi = Shadow price"
      ]
    },
    {
      "cell_type": "markdown",
      "metadata": {
        "id": "9yWOsxYTA3OU"
      },
      "source": [
        "# Optimal Revenue for spirit airways = $134,280."
      ]
    },
    {
      "cell_type": "code",
      "execution_count": null,
      "metadata": {
        "id": "OPMlOtwoA3OU",
        "outputId": "2561925b-802d-41b4-f154-15efb42998f0"
      },
      "outputs": [
        {
          "data": {
            "text/plain": [
              "134280.0"
            ]
          },
          "execution_count": 96,
          "metadata": {},
          "output_type": "execute_result"
        }
      ],
      "source": [
        "model.objVal"
      ]
    },
    {
      "cell_type": "code",
      "execution_count": null,
      "metadata": {
        "id": "_rKHM6X3A3OU",
        "outputId": "7dc3ae11-c40e-4831-b9d5-7d3bc39aea97"
      },
      "outputs": [
        {
          "name": "stdout",
          "output_type": "stream",
          "text": [
            "Optimal allocation decisions for each flight and class:\n",
            "Q_1 = 14.0\n",
            "Q_2 = 0.0\n",
            "Q_3 = 41.0\n",
            "Q_4 = 20.0\n",
            "Q_5 = 19.0\n",
            "Q_6 = 0.0\n",
            "Q_7 = 11.0\n",
            "Q_8 = 25.0\n",
            "Y_1 = 20.0\n",
            "Y_2 = 40.0\n",
            "Y_3 = 25.0\n",
            "Y_4 = 16.0\n",
            "Y_5 = 50.0\n",
            "Y_6 = 35.0\n",
            "Y_7 = 20.0\n",
            "Y_8 = 14.0\n"
          ]
        }
      ],
      "source": [
        "print('Optimal allocation decisions for each flight and class:')\n",
        "for v in model.getVars():\n",
        "    print(v.varName, '=', v.x)"
      ]
    },
    {
      "cell_type": "code",
      "execution_count": null,
      "metadata": {
        "id": "uharcC4VA3OU",
        "outputId": "1792430a-affa-4ffd-a323-89cac46935bb"
      },
      "outputs": [
        {
          "name": "stdout",
          "output_type": "stream",
          "text": [
            "\n",
            "    Variable            x \n",
            "-------------------------\n",
            "         Q_1           14 \n",
            "         Q_3           41 \n",
            "         Q_4           20 \n",
            "         Q_5           19 \n",
            "         Q_7           11 \n",
            "         Q_8           25 \n",
            "         Y_1           20 \n",
            "         Y_2           40 \n",
            "         Y_3           25 \n",
            "         Y_4           16 \n",
            "         Y_5           50 \n",
            "         Y_6           35 \n",
            "         Y_7           20 \n",
            "         Y_8           14 \n"
          ]
        }
      ],
      "source": [
        "model.printAttr('x')"
      ]
    }
  ],
  "metadata": {
    "kernelspec": {
      "display_name": "Python 3",
      "language": "python",
      "name": "python3"
    },
    "language_info": {
      "codemirror_mode": {
        "name": "ipython",
        "version": 3
      },
      "file_extension": ".py",
      "mimetype": "text/x-python",
      "name": "python",
      "nbconvert_exporter": "python",
      "pygments_lexer": "ipython3",
      "version": "3.8.8"
    },
    "colab": {
      "provenance": []
    }
  },
  "nbformat": 4,
  "nbformat_minor": 0
}